{
 "cells": [
  {
   "cell_type": "markdown",
   "metadata": {},
   "source": [
    "#### Pitch:\n",
    "Telecom operator that wants to predict customer churn based on internet usage data."
   ]
  },
  {
   "cell_type": "markdown",
   "metadata": {},
   "source": [
    "### what are the features used ?\n",
    "\n",
    "approx 21 features (and close to 7000 observations) are used, the major among them were:\n",
    "* tenure\n",
    "* opted for phone service or not\n",
    "* type of contract - monthly / yearly\n",
    "* monthly charges\n",
    "* opted for paperless billing or not\n",
    "* total charges\n",
    "* type of internet service - DSL/fibre optic\n",
    "* Streaming movies\n",
    "* Streaming TV\n",
    "* partner\n",
    "* gender\n",
    "* Senior Citizen\n",
    "* Online Security\n",
    "* Online Backup\n",
    "* Device protection"
   ]
  },
  {
   "cell_type": "markdown",
   "metadata": {},
   "source": [
    "### What are the pre-processing steps used:\n",
    "* data preparation - like converting Yes/No values to 1/0\n",
    "* dummy variable creation (categorical variables are converted to column wise binary variable) if n categorical vars then n-1 dummy variables are created.\n",
    "* checking for outliers (by using perentiles the increase should be uniform)\n",
    "* missing values treatment - removing missing values for total charges while imputing with average value for tenure.\n",
    "* feature standardistaion for continuous vars : x- mean(x)/x.std()"
   ]
  },
  {
   "cell_type": "markdown",
   "metadata": {},
   "source": [
    "#### What was the churn rate in data ? - 27%"
   ]
  },
  {
   "cell_type": "markdown",
   "metadata": {},
   "source": [
    "Note that churn 'Yes' is encoded as 1 which means log odds of churn increase with increase in variable (with +ve coef). Which means customer is more likely to churn for increase in variable with +ve coef. For example customer churn increases with increase in total charges."
   ]
  },
  {
   "cell_type": "markdown",
   "metadata": {},
   "source": [
    "final model had 12 variables (variables not marked are negative) -\n",
    "* paperless billing\n",
    "* contract type ( 2year has less churn than 1 year)\n",
    "* tenure (-ve)\n",
    "* total charges\n",
    "* payment method\n",
    "* movie streaming \n",
    "* online security\n",
    "* total charges (+ve)\n",
    "* type of internet service Internet service - Fibre optic (+ve)\n",
    "* tech support (+ve)"
   ]
  },
  {
   "cell_type": "markdown",
   "metadata": {},
   "source": [
    "#### What was the methodology followed ?\n",
    "\n",
    "* initial variable reduction using RFE from 22 to 15\n",
    "* then based on p-value and VIF (at this point expect p value and VIF def)\n",
    "(giving more weightage to p value)"
   ]
  },
  {
   "cell_type": "markdown",
   "metadata": {},
   "source": [
    "#### Model Evaluation\n",
    "* data was divided into training and test set.\n",
    "* Model evaluation was done using confusion matrix. (what is it ?)\n",
    "* overall accuracy was 80%\n",
    "* sensitivity as well as spcificity needed to be optimized, false negative should be minimized.\n",
    "* probability cutoff threshold (hyperparameter) was varied from 0.1 to 0.95 and accuracy, sensitivity and specificity was plotted and optimum value was chosen near intersection point of sensitivity and specificity - 0.3"
   ]
  },
  {
   "cell_type": "markdown",
   "metadata": {},
   "source": [
    "#### Addition Questions ?\n",
    "* Type 1 and Type 2 error.\n",
    "* explain logistic regression and why it was used ?"
   ]
  },
  {
   "cell_type": "code",
   "execution_count": null,
   "metadata": {},
   "outputs": [],
   "source": []
  }
 ],
 "metadata": {
  "kernelspec": {
   "display_name": "Python 3",
   "language": "python",
   "name": "python3"
  },
  "language_info": {
   "codemirror_mode": {
    "name": "ipython",
    "version": 3
   },
   "file_extension": ".py",
   "mimetype": "text/x-python",
   "name": "python",
   "nbconvert_exporter": "python",
   "pygments_lexer": "ipython3",
   "version": "3.6.0"
  }
 },
 "nbformat": 4,
 "nbformat_minor": 2
}
